{
 "cells": [
  {
   "cell_type": "code",
   "execution_count": 1,
   "id": "50f26bc1",
   "metadata": {},
   "outputs": [
    {
     "name": "stdout",
     "output_type": "stream",
     "text": [
      "Function #1 - multiply by 10\n"
     ]
    },
    {
     "data": {
      "text/plain": [
       "100"
      ]
     },
     "execution_count": 1,
     "metadata": {},
     "output_type": "execute_result"
    }
   ],
   "source": [
    "def f1(args1):\n",
    "    print(\"Function #1 - multiply by 10\")\n",
    "    r1 = args1 * 10\n",
    "    return r1\n",
    "f1(10)"
   ]
  },
  {
   "cell_type": "code",
   "execution_count": 2,
   "id": "6f431367",
   "metadata": {},
   "outputs": [
    {
     "name": "stdout",
     "output_type": "stream",
     "text": [
      "Function #2 - return 20\n"
     ]
    },
    {
     "data": {
      "text/plain": [
       "20"
      ]
     },
     "execution_count": 2,
     "metadata": {},
     "output_type": "execute_result"
    }
   ],
   "source": [
    "def f2(args2 = 25):\n",
    "    print(\"Function #2 - return 20\")\n",
    "    r2 = args2 - 5\n",
    "    return r2\n",
    "f2()"
   ]
  },
  {
   "cell_type": "code",
   "execution_count": 3,
   "id": "298ad5b5",
   "metadata": {},
   "outputs": [
    {
     "name": "stdout",
     "output_type": "stream",
     "text": [
      "Function #3 - print 1st or 2nd element of a list\n",
      "Odd indexes. Printing the first index: 1var\n"
     ]
    }
   ],
   "source": [
    "def f3(*args3):\n",
    "    print(\"Function #3 - print 1st or 2nd element of a list\")\n",
    "    if len(args3)%2==1:\n",
    "        print(\"Odd indexes. Printing the first index:\", args3[0])\n",
    "    else:\n",
    "        print(\"Even indexes. Printing the second index:\", args3[1])\n",
    "f3('1var', '2var', '3var')"
   ]
  },
  {
   "cell_type": "code",
   "execution_count": 4,
   "id": "a99ac9d5",
   "metadata": {},
   "outputs": [
    {
     "name": "stdout",
     "output_type": "stream",
     "text": [
      "Function #4 - print the name\n",
      "name is found. Printing the name ... Unuruu\n"
     ]
    }
   ],
   "source": [
    "def f4(**args4):\n",
    "    print(\"Function #4 - print the name\")\n",
    "    if 'name' in args4.keys():\n",
    "        print(\"name is found. Printing the name ... \" + args4['name'])\n",
    "    else:\n",
    "        print(\"no name found\")\n",
    "f4(name = 'Unuruu', age = 18)"
   ]
  },
  {
   "cell_type": "code",
   "execution_count": 5,
   "id": "d4586aa6",
   "metadata": {},
   "outputs": [
    {
     "name": "stdout",
     "output_type": "stream",
     "text": [
      "Function #5 - example f1, f2\n",
      "Function #1 - multiply by 10\n",
      "Function #2 - return 20\n"
     ]
    },
    {
     "data": {
      "text/plain": [
       "80"
      ]
     },
     "execution_count": 5,
     "metadata": {},
     "output_type": "execute_result"
    }
   ],
   "source": [
    "def f5(args5):\n",
    "    print(\"Function #5 - example f1, f2\")\n",
    "    args = f1(args5)\n",
    "    args = args - f2()\n",
    "    return args\n",
    "f5(10)"
   ]
  },
  {
   "cell_type": "code",
   "execution_count": 6,
   "id": "72761bb0",
   "metadata": {},
   "outputs": [
    {
     "name": "stdout",
     "output_type": "stream",
     "text": [
      "Function #6\n",
      "Function #1 - multiply by 10\n",
      "Function #2 - return 20\n",
      "Function #2 - return 20\n",
      "Function #1 - multiply by 10\n",
      "Function #3 - print 1st or 2nd element of a list\n",
      "Odd indexes. Printing the first index: 20\n"
     ]
    }
   ],
   "source": [
    "def f6(arg6):\n",
    "    print(\"Function #6\")\n",
    "    arg6 = f1(arg6)\n",
    "    arg6 = f2()\n",
    "    return f3(arg6, f2(), f1(arg6))\n",
    "f6(10)"
   ]
  }
 ],
 "metadata": {
  "kernelspec": {
   "display_name": "Python 3 (ipykernel)",
   "language": "python",
   "name": "python3"
  },
  "language_info": {
   "codemirror_mode": {
    "name": "ipython",
    "version": 3
   },
   "file_extension": ".py",
   "mimetype": "text/x-python",
   "name": "python",
   "nbconvert_exporter": "python",
   "pygments_lexer": "ipython3",
   "version": "3.9.12"
  },
  "vscode": {
   "interpreter": {
    "hash": "ad2bdc8ecc057115af97d19610ffacc2b4e99fae6737bb82f5d7fb13d2f2c186"
   }
  }
 },
 "nbformat": 4,
 "nbformat_minor": 5
}
